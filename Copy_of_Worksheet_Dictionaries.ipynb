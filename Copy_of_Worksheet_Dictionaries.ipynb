{
  "nbformat": 4,
  "nbformat_minor": 0,
  "metadata": {
    "colab": {
      "provenance": [],
      "include_colab_link": true
    },
    "kernelspec": {
      "name": "python3",
      "display_name": "Python 3"
    },
    "language_info": {
      "name": "python"
    }
  },
  "cells": [
    {
      "cell_type": "markdown",
      "metadata": {
        "id": "view-in-github",
        "colab_type": "text"
      },
      "source": [
        "<a href=\"https://colab.research.google.com/github/munothk28/munothk28/blob/main/Copy_of_Worksheet_Dictionaries.ipynb\" target=\"_parent\"><img src=\"https://colab.research.google.com/assets/colab-badge.svg\" alt=\"Open In Colab\"/></a>"
      ]
    },
    {
      "cell_type": "markdown",
      "metadata": {
        "id": "AiiF1h2X4PHP"
      },
      "source": [
        "# Dictionaries\n",
        "\n",
        "---\n",
        "\n",
        "A **dictionary** is a collection of dissimilar data stored together in one *record*. Each item of data has a  (or key) that describes its paired value.  \n",
        "\n",
        "Create a dictionary object by declaring the set of keys and values, e.g.:\n",
        "\n",
        "```\n",
        "   transport = {\n",
        "       \"type\":\"bus\",\n",
        "       \"numPassengers\":72,\n",
        "       \"colour\":\"blue\",\n",
        "       \"fuel\":\"diesel\"\n",
        "   }\n",
        "```\n",
        "\n",
        "To access a value in a dictionary, use its key:  \n",
        "\n",
        "```\n",
        "transport[\"type\"] = \"coach\"\n",
        "transport_type = transport[\"type\"]\n",
        "transport_colour = transport[\"colour\"]\n",
        "transport[\"fuel\"] = petrol\n",
        "```\n",
        "\n",
        "To add a new key/value pair to a dictionary, simply assign a value to a new key:  \n",
        "```\n",
        "transport[\"seats\"] = 54\n",
        "```\n",
        "\n",
        "The transport dictionary will now look like this:  \n",
        "```\n",
        "   transport = {\n",
        "       \"type\":\"bus\",\n",
        "       \"numPassengers\":72,\n",
        "       \"colour\":\"blue\",\n",
        "       \"fuel\":\"diesel\",\n",
        "       \"seats\":54\n",
        "   }\n",
        "```\n",
        "\n"
      ]
    },
    {
      "cell_type": "markdown",
      "metadata": {
        "id": "1uZ5kNWB6CqK"
      },
      "source": [
        "---\n",
        "### Exercise 1 - print dictionary\n",
        "\n",
        "Write a function which will:  \n",
        "\n",
        "*  create an empty dictionary for a person (name, age and postcode, with values \"\", 0 and \"\")\n",
        "*  ask the user for name, age and postcode and assign the values to the correct keys in the dictionary  \n",
        "*  print the dictionary\n",
        "\n",
        "Test input:  \n",
        "Jack Jones  \n",
        "16  \n",
        "AB5 3DF  \n",
        "\n",
        "Expected output:  \n",
        "```{'name':'Jack Jones', 'age':16, 'postcode':'AB5 3DF'}```"
      ]
    },
    {
      "cell_type": "code",
      "metadata": {
        "id": "Ac7VQTj94Mrc",
        "outputId": "ec8afaa7-2d6e-4221-9d5f-282aaac30c6f",
        "colab": {
          "base_uri": "https://localhost:8080/"
        }
      },
      "source": [
        "def person_dictionery():\n",
        " person={\"name\":\"\",\"age\":0,\"postcode\":\"\" \"\"}\n",
        " person[\"name\"] = input(\"Enter Name: \")\n",
        " person[\"age\"] = input(\"Enter Age: \")\n",
        " person[\"postcode\"] = input(\"Enter Post Code: \")\n",
        " print(person)\n",
        "person_dictionery() "
      ],
      "execution_count": null,
      "outputs": [
        {
          "output_type": "stream",
          "name": "stdout",
          "text": [
            "Enter Name: jack\n",
            "Enter Age: 16\n",
            "Enter Post Code: ab5 3df\n",
            "{'name': 'jack', 'age': '16', 'postcode': 'ab5 3df'}\n"
          ]
        }
      ]
    },
    {
      "cell_type": "markdown",
      "metadata": {
        "id": "0OtNqNKv7WKm"
      },
      "source": [
        "---\n",
        "### Exercise 2 - create a dictionary\n",
        "\n",
        "Write a function that will create two dictionaries,without values:  \n",
        "\n",
        "1.  person (with keys firstname, surname, birthdate, postcode)  \n",
        "2.  car (with key/value pairs as follows:  make - Vauxhall, model - Corsa, engineSize - 1199, fuelType - unleaded, num_doors - 4)  \n",
        "\n",
        "*   ask the user to enter the values for the person dictionary  \n",
        "*   print, on one line, the person's name from the person dictionary and the make of the car from the car dictionary.\n",
        "\n",
        "Test input:  \n",
        "Jack  \n",
        "Jones  \n",
        "2005/02/02    \n",
        "AB5 3DF  \n",
        "\n",
        "Expected output:  \n",
        "Jack Jones Vauxhall"
      ]
    },
    {
      "cell_type": "code",
      "metadata": {
        "id": "ZyqhaBCC-GdI",
        "outputId": "c1cf7971-f224-49fc-9057-20d53738bfbc",
        "colab": {
          "base_uri": "https://localhost:8080/"
        }
      },
      "source": [
        "def create_dictionaries():\n",
        "  person={\"firstname\":\"\",\"surname\":\"\",\"birthdate\":\"\",\"postcode\":\"\"}\n",
        "  car={\"make\":\"vauxhall\",\"model\":\"corsa\",\"enginesize\":1199,\"fuelType\":\"unleaded\",\"num_doors\":4}\n",
        "  person[\"firstname\"]=input(\"enter person firstname\")\n",
        "  person[\"surname\"]=input(\"enter person surname\")\n",
        "  person[\"birthdate\"]=input(\"enter person birthdate\")\n",
        "  person[\"poscode\"]=input(\"enter person postcode\")\n",
        "  print(person[\"firstname\"],person[\"surname\"],car[\"make\"])\n",
        "create_dictionaries()"
      ],
      "execution_count": null,
      "outputs": [
        {
          "output_type": "stream",
          "name": "stdout",
          "text": [
            "enter person firstnamejack\n",
            "enter person surnamejones\n",
            "enter person birthdate2005/02/02\n",
            "enter person postcodeab5 3df\n",
            "jack jones vauxhall\n"
          ]
        }
      ]
    },
    {
      "cell_type": "markdown",
      "metadata": {
        "id": "gYuuOUYw-G4I"
      },
      "source": [
        "---\n",
        "### Exercise 3 - check dictionary values\n",
        "\n",
        "Write a new function which will:\n",
        "\n",
        "*  set up the same two dictionaries as in Exercise 2  \n",
        "*  ask the user to enter the details to complete the person record  \n",
        "*  calculate the person's age  \n",
        "*  if the person is under 17 then print a message to say that they can't buy a car as they are too young to drive\n",
        "*  else if the person is under 25 then print a message to say that an engine size under 1200 is recommended  \n",
        "*  ask the user to enter the make of car that the person is looking for  \n",
        "*  if the user enters the same make as that stored in the car record, then print a message to say that you have one car of that make in stock and print all the details of the car that you have the record for\n",
        "*  else (if the user enters any other car make) then print a message to say sorry that you don't have any cars of that make in stock\n",
        "*  print a message to say that the user can get more details for stockist in the <user's postcode> area if they call 01234567890\n",
        "*  print a message to say \"Thank you <user's name> for using our site\"  \n",
        "\n",
        "Test input:  \n",
        "Jack  \n",
        "Jones  \n",
        "2005/02/02  \n",
        "AB5 3DF  \n",
        "Vauxhall  \n",
        "\n",
        "Expected output:  \n",
        "You are too young to drive\n",
        "\n",
        "Test input:  \n",
        "John  \n",
        "Jones  \n",
        "2003/02/02  \n",
        "AB5 3DF  \n",
        "Vauxhall \n",
        "\n",
        "Expected output:  \n",
        "An engine size under 1200 is recommended  \n",
        "We have one Vauxhall in stock, details:  \n",
        "Make - Vauxhall    \n",
        "Model - Corsa    \n",
        "Engine size - 1199  \n",
        "Fuel type - unleaded   \n",
        "Number of doors - 4  \n",
        "You can get more details of stockists near AB5 3DF on 01234567890  \n",
        "Thank you John Jones for using our site.     \n",
        "\n",
        "Test input:  \n",
        "John  \n",
        "Jones  \n",
        "2003/02/02  \n",
        "AB5 3DF  \n",
        "Ford  \n",
        "\n",
        "Expected output:  \n",
        "An engine size under 1200 is recommended  \n",
        "Sorry, we don't have any of that make in stock  \n"
      ]
    },
    {
      "cell_type": "code",
      "metadata": {
        "id": "Wp9Il2JG_hDh",
        "colab": {
          "base_uri": "https://localhost:8080/"
        },
        "outputId": "2dfe0c65-0923-4bd2-bc54-3da03fd3c992"
      },
      "source": [
        "from datetime import date, datetime\n",
        "def create_dictionaries():\n",
        "  person={\"firstname\":\"\",\"surname\":\"\",\"birthdate\":\"\",\"postcode\":\"\"}\n",
        "  car={\"make\":\"\",\"model\":\"corsa\",\"enginesize\":1199,\"fuelType\":\"unleaded\",\"num_doors\":4}\n",
        "  person[\"firstname\"]=input(\"enter person firstname\")\n",
        "  person[\"surname\"]=input(\"enter person surname\")\n",
        "  person[\"birthdate\"]=input(\"enter person birthdate\")\n",
        "  person[\"poscode\"]=input(\"enter person postcode\")\n",
        "  today = date.today()\n",
        "  birthdate =date_time_obj = datetime.strptime(person[\"birthdate\"], '%Y/%m/%d') \n",
        "  age = today.year - birthdate.year - ((today. month, today. day) < (birthdate. month, birthdate. day))\n",
        "  if age<17:\n",
        "   print(\"you can't buy a car as they are too young to drive\")\n",
        "  elif age<25:\n",
        "   print(\"An engine size under 1200 is recommended\")\n",
        "  car[\"make\"]=input(\"enter car model\")\n",
        "  if car!= \"Vauxhall\":\n",
        "   print(\"sorry that we don't have any cars of that make in stock\")\n",
        "  else:\n",
        "    print(\"we have one car of that make in stock\"+car)\n",
        "    print(\"You can get more details of stockists near\"+person[\"poscode\"] +\"on 01234567890\")\n",
        "    print(\"Thank you\"+person[\"firstname\"],person[\"lastname\"] + \"for using our site\")\n",
        "create_dictionaries()"
      ],
      "execution_count": null,
      "outputs": [
        {
          "output_type": "stream",
          "name": "stdout",
          "text": [
            "enter person firstnamejohn\n",
            "enter person surnamejones\n",
            "enter person birthdate2005/02/02\n",
            "enter person postcodeab5 8fg\n",
            "An engine size under 1200 is recommended\n",
            "enter car modelford\n",
            "sorry that we don't have any cars of that make in stock\n"
          ]
        }
      ]
    },
    {
      "cell_type": "markdown",
      "metadata": {
        "id": "I6dUiRwn7Gkg"
      },
      "source": [
        "---\n",
        "### Exercise 4 - print keys and values\n",
        "\n",
        "Two dictionaries have been created below.  You can print a list of the dictionary's keys using `dictionary_name.keys()` and the values using `dictionary_name.values()`\n",
        "\n",
        "Write a function which will accept a dictionary as a parameter and will:  \n",
        "*  print the dictionary keys as a list   \n",
        "*  print the dictionary values as a list  \n",
        "\n",
        "*Hint*:  you will need to cast the keys as a list (`list(dictionary_name.keys()`)  and do the same for the values.\n",
        "\n",
        "**Expected Output**\n",
        "\n",
        "Input: English  \n",
        "Output: \n",
        "['Andy', 'Angela']  \n",
        "[95, 53]  \n",
        "\n",
        "Input: Maths  \n",
        "Output:  \n",
        "['Andy', 'Angela']  \n",
        "[58, 72] \n",
        " \n",
        "\n",
        "\n"
      ]
    },
    {
      "cell_type": "code",
      "metadata": {
        "id": "FApOckhJEsMs",
        "colab": {
          "base_uri": "https://localhost:8080/"
        },
        "outputId": "709d6c9d-9440-41b9-e2f0-e681ea3f7de5"
      },
      "source": [
        "def display_dictionary(scores):\n",
        "  #  add your code below this line\n",
        "  list_of_the_keys=list(scores.keys())\n",
        "  list_of_the_values=list(scores.values())\n",
        "  print(list_of_the_keys,\"\\n\" ,list_of_the_values)\n",
        "\n",
        "\n",
        "english_scores = {'Andy': 95, 'Angela': 53}\n",
        "maths_scores = {'Andy': 58, 'Angela': 72}\n",
        "display_dictionary(english_scores)\n",
        "display_dictionary(maths_scores)"
      ],
      "execution_count": null,
      "outputs": [
        {
          "output_type": "stream",
          "name": "stdout",
          "text": [
            "['Andy', 'Angela'] \n",
            " [95, 53]\n",
            "['Andy', 'Angela'] \n",
            " [58, 72]\n"
          ]
        }
      ]
    },
    {
      "cell_type": "markdown",
      "metadata": {
        "id": "segSpkmBFSJl"
      },
      "source": [
        "---\n",
        "### Exercise 5 - add field\n",
        "\n",
        "Write a function which will:\n",
        "\n",
        "*  create a new dictionary called **science_scores** with values of 0 for both Andy and Angela\n",
        "*  update Andy's score for science to 73 and Angela's score to 73   \n",
        "*  create a new key/value pair by adding another learner to the `science_scores`  dictionary (George has a score of 55)    \n",
        "*  print the `science_scores` dictionary to check results  \n",
        "\n",
        "Expected Output\n",
        "\n",
        "{'Andy': 73, 'Angela': 73, 'George': 55}"
      ]
    },
    {
      "cell_type": "code",
      "metadata": {
        "id": "BL1JM-Z7Gttf",
        "colab": {
          "base_uri": "https://localhost:8080/"
        },
        "outputId": "ed320078-0341-45ee-bc97-6f5760f7e472"
      },
      "source": [
        "def science_scores():\n",
        "  science_scores={\"andy\":0,\"angela\":0}\n",
        "  science_scores[\"andy\"]=73\n",
        "  science_scores[\"angela\"]=73\n",
        "  science_scores[\"george\"]=55\n",
        "  print(science_scores)\n",
        "science_scores()\n"
      ],
      "execution_count": null,
      "outputs": [
        {
          "output_type": "stream",
          "name": "stdout",
          "text": [
            "{'andy': 73, 'angela': 73, 'george': 55}\n"
          ]
        }
      ]
    },
    {
      "cell_type": "markdown",
      "metadata": {
        "id": "_Vzv0zlHGt-C"
      },
      "source": [
        "---\n",
        "### Exercise 6 - loop through keys/value pairs\n",
        "\n",
        "Write a function which will use a *for* loop to print the each key/value pair in the science dictionary (recreate this dictionary in this function) \n",
        "\n",
        "*(Hint: you can iterate through the key/value pairs in the dictionary in the same way as you iterate through a loop (e.g. for record in dictionary) and print the record (which is the key) and its value)*\n",
        "\n",
        "Expected output:  \n",
        "\n",
        "Angela 72  \n",
        "Andy 72  \n",
        "George 55  "
      ]
    },
    {
      "cell_type": "code",
      "metadata": {
        "id": "JL40_-W-Hxnt",
        "colab": {
          "base_uri": "https://localhost:8080/"
        },
        "outputId": "333e0bd0-1c87-4cfd-c0e6-9b4a103122aa"
      },
      "source": [
        "def print_dictionary():\n",
        "    science_scores ={ \"Andy\": 72, \"Angela\": 72,\"George\": 55}\n",
        "    for k, v in science_scores.items():\n",
        "      print(k,v)\n",
        "\n",
        "print_dictionary()\n",
        "     "
      ],
      "execution_count": null,
      "outputs": [
        {
          "output_type": "stream",
          "name": "stdout",
          "text": [
            "Andy 72\n",
            "Angela 72\n",
            "George 55\n"
          ]
        }
      ]
    },
    {
      "cell_type": "markdown",
      "metadata": {
        "id": "G9wamxzRJdrE"
      },
      "source": [
        "---\n",
        "### Exercise 7 - generate new dictionary  \n",
        "\n",
        "Write a functions which will:\n",
        "*  create a new dictionary where the keys are numbers between 1 and 15 (both included) and the values are square of keys\n",
        "*  print the dictionary\n",
        "\n",
        "Expected output:  \n",
        "{1: 1, 2: 4, 3: 9, 4: 16, 5: 25, 6: 36, 7: 49, 8: 64, 9: 81, 10: 100, 11: 121, 12: 144, 13: 169, 14: 196, 15: 225}"
      ]
    },
    {
      "cell_type": "code",
      "metadata": {
        "id": "1-LI-LVrJ--N",
        "colab": {
          "base_uri": "https://localhost:8080/"
        },
        "outputId": "ad0ff9dc-630a-4822-fb41-eff317ee2578"
      },
      "source": [
        "def generate_new_dictionary():\n",
        "  d=dict()\n",
        "  for x in range(1,16):\n",
        "    d[x]=x**2\n",
        "  print(d) \n",
        "generate_new_dictionary()"
      ],
      "execution_count": null,
      "outputs": [
        {
          "output_type": "stream",
          "name": "stdout",
          "text": [
            "{1: 1, 2: 4, 3: 9, 4: 16, 5: 25, 6: 36, 7: 49, 8: 64, 9: 81, 10: 100, 11: 121, 12: 144, 13: 169, 14: 196, 15: 225}\n"
          ]
        }
      ]
    },
    {
      "cell_type": "markdown",
      "metadata": {
        "id": "t0y4mefwJ_jQ"
      },
      "source": [
        "---\n",
        "### Exercise 8 - colour dictionary  \n",
        "\n",
        "Write a function which will:  \n",
        "*  create a new dictionary record called colour_codes with the values 'red' - '#FF0000', 'green' - '#008000', 'black' - '#000000', 'white' - '#FFFFFF'\n",
        "*  add a new colour code:  'blue' - '#0000FF'    \n",
        "*  remove the colours black and white from the dictionary  \n",
        "\n",
        "*Hint:  there is a list of methods [here](https://www.w3schools.com/python/python_ref_dictionary.asp)*  "
      ]
    },
    {
      "cell_type": "code",
      "metadata": {
        "id": "yod1mUNOMeWg",
        "colab": {
          "base_uri": "https://localhost:8080/"
        },
        "outputId": "26dbca12-98d1-4a5d-d4cc-6618ae0fb2b4"
      },
      "source": [
        "def colour_dictionary():\n",
        "  colour_code={\"red\": '#FF0000',\"green\": '#008000',\"black\": '#000000',\"white\":'#FFFFFF'}\n",
        "  colour_code[\"blue\"]= \"#0000FF\"\n",
        "  colour_code.pop(\"black\")\n",
        "  colour_code.pop(\"white\")\n",
        "  print(colour_code)\n",
        "colour_dictionary()"
      ],
      "execution_count": null,
      "outputs": [
        {
          "output_type": "stream",
          "name": "stdout",
          "text": [
            "{'red': '#FF0000', 'green': '#008000', 'blue': '#0000FF'}\n"
          ]
        }
      ]
    },
    {
      "cell_type": "markdown",
      "metadata": {
        "id": "gjos_0vuMeyS"
      },
      "source": [
        "---\n",
        "### Exercise 9 - item tuples  \n",
        "\n",
        "Write a function which will:  \n",
        "*  create a new dictionary containing the colour codes for red, green, blue, black and white\n",
        "*  print the key/value pairs of a dictionary as a list of tuples  \n",
        "\n",
        "*Hint:  iterate through colours.items()*"
      ]
    },
    {
      "cell_type": "code",
      "metadata": {
        "id": "EzuMkUypOKTY",
        "colab": {
          "base_uri": "https://localhost:8080/"
        },
        "outputId": "928925fd-ceba-4c00-b0a6-023d75d3b6ab"
      },
      "source": [
        "def print_colours():\n",
        "  colour_code={\"red\": '#FF0000',\"green\": '#008000',\"black\": '#000000',\"white\":'#FFFFFF',\"blue\": '#0000FF'}\n",
        "  print(colour_code.items())\n",
        "print_colours()"
      ],
      "execution_count": null,
      "outputs": [
        {
          "output_type": "stream",
          "name": "stdout",
          "text": [
            "dict_items([('red', '#FF0000'), ('green', '#008000'), ('black', '#000000'), ('white', '#FFFFFF'), ('blue', '#0000FF')])\n"
          ]
        }
      ]
    },
    {
      "cell_type": "markdown",
      "metadata": {
        "id": "Jw1ot10cOc6r"
      },
      "source": [
        "---\n",
        "### Exercise 10 - check if empty\n",
        "Taken from w3resouce.com  \n",
        "\n",
        "Write a function which will check if a dictionary is empty or not\n",
        "\n",
        "*Hint:  you can use bool(dictionary_name), if the dictionary is empty then bool(dictionary_name will be false)*\n",
        "\n",
        "Test 1 sample data:\n",
        "{}\n",
        "\n",
        "Expected output:\n",
        "Dictionary is empty  \n",
        "\n",
        "Test 2 sample data:  \n",
        "{\"name\":\"Groucho\", \"occupation\":\"comedian\"}\n",
        "\n",
        "Expected output:  \n",
        "Dictionary is not empty"
      ]
    },
    {
      "cell_type": "code",
      "metadata": {
        "id": "7UdM1TfwRqnt",
        "colab": {
          "base_uri": "https://localhost:8080/"
        },
        "outputId": "6fcc8f36-81fd-4651-e835-0cccc262e068"
      },
      "source": [
        "def check_if_empty(check_d):\n",
        "  if bool(check_d) != True:\n",
        "    print(\"Dictionary is empty\")\n",
        "  else:\n",
        "    print(check_d)\n",
        "\n",
        "empty_dict = {}\n",
        "not_empty_dict = {\"name\":\"Groucho\", \"occupation\":\"comedian\"}\n",
        "check_if_empty(empty_dict)\n",
        "check_if_empty(not_empty_dict)"
      ],
      "execution_count": null,
      "outputs": [
        {
          "output_type": "stream",
          "name": "stdout",
          "text": [
            "Dictionary is empty\n",
            "{'name': 'Groucho', 'occupation': 'comedian'}\n"
          ]
        }
      ]
    }
  ]
}