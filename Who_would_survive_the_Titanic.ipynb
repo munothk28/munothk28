{
  "nbformat": 4,
  "nbformat_minor": 0,
  "metadata": {
    "colab": {
      "name": "Who would survive the Titanic.ipynb",
      "provenance": [],
      "include_colab_link": true
    },
    "kernelspec": {
      "name": "python3",
      "display_name": "Python 3"
    },
    "language_info": {
      "name": "python"
    }
  },
  "cells": [
    {
      "cell_type": "markdown",
      "metadata": {
        "id": "view-in-github",
        "colab_type": "text"
      },
      "source": [
        "<a href=\"https://colab.research.google.com/github/munothk28/munothk28/blob/main/Who_would_survive_the_Titanic.ipynb\" target=\"_parent\"><img src=\"https://colab.research.google.com/assets/colab-badge.svg\" alt=\"Open In Colab\"/></a>"
      ]
    },
    {
      "cell_type": "markdown",
      "source": [
        "# Who Would Survive The Titanic?\n",
        "---"
      ],
      "metadata": {
        "id": "N17abBc4T7Cj"
      }
    },
    {
      "cell_type": "markdown",
      "source": [
        "This worksheet will explore the possibility that a person's financial status may have affected their chances of survival of the Titanic disaster. We will use passenger data from the Titanic to discover the surival rate of passengers from different classes, ages and genders and to draw conclusions as to how they may have affected a person's odds of surviving the disaster."
      ],
      "metadata": {
        "id": "itn7U5GzhFBl"
      }
    },
    {
      "cell_type": "markdown",
      "source": [
        "---\n",
        "\n",
        "## Prerequisite\n",
        "\n",
        "Run the following code to gain access to the Titanic passenger data and to create the subsequent lists which will be used later."
      ],
      "metadata": {
        "id": "OF6cO3E_bX45"
      }
    },
    {
      "cell_type": "code",
      "execution_count": 1,
      "metadata": {
        "id": "iyDSJtrub50u"
      },
      "outputs": [],
      "source": [
        "### ~ DO NOT EDIT BELOW THIS POINT ~ ###\n",
        "\n",
        "import pandas as pd\n",
        "\n",
        "def get_pclass_and_survived():   \n",
        "  url = \"https://raw.githubusercontent.com/pandas-dev/pandas/master/doc/data/titanic.csv\"\n",
        "  data_table = pd.read_csv(url)\n",
        "  return (data_table[\"Survived\"].tolist(), \n",
        "          data_table[\"Pclass\"].tolist(),\n",
        "          data_table[\"Sex\"].tolist(),\n",
        "          data_table[\"Age\"].tolist())\n",
        "\n",
        "survived, Pclass, Sex, Age = get_pclass_and_survived()\n",
        "\n",
        "### ~ DO NOT EDIT ABOVE THIS POINT ~ ###"
      ]
    },
    {
      "cell_type": "markdown",
      "source": [
        "---\n",
        "\n",
        "### Exercise 1 - Find the percentage of people with third class tickets who survived the Titanic\n",
        "\n",
        "Write a function called get_third_class_survival_rate() which will get the percentage of survivors in third class: \n",
        "\n",
        "\n",
        "*   assign the value 0 to variables **passenger_count** and **survivor_count**\n",
        "\n",
        "*   use a **for** loop to loop through the `Pclass` list\n",
        "\n",
        "*   in the loop: use an **if** statement to add to the passenger count `if` the passenger was in third class (e.g. if passenger_class == 3)\n",
        "\n",
        "*   use a second **for** loop in the **range** of the Pclass list to loop through the length of the list\n",
        "\n",
        "*   in the second loop: use an **if** statement to add to the survivor count `if` the passenger was in third class and survived\n",
        "\n",
        "*   create a new variable and called **class_survival_rate** and calculate the survival rate as a percentage ( (survivor count ÷ passenger count) x 100 ) and return the result\n",
        "\n",
        "*   store the calling function in a new variable called **third_class_survivors** and print it along with a statement\n",
        "\n",
        "Expected Output:\n",
        "\n",
        "The survival rate of third class passengers was 24%"
      ],
      "metadata": {
        "id": "fdQojJVc4Vsx"
      }
    },
    {
      "cell_type": "code",
      "source": [
        "def get_third_class_survival_rate():\n",
        "  passenger_count=0\n",
        "  survivor_count=0\n",
        "  for i in range(len(Pclass)):\n",
        "    if Pclass[i] == 3:\n",
        "      passenger_count=passenger_count+1\n",
        "  for i in range(len(Pclass)):\n",
        "    if survived[i] == 1 and Pclass[i] == 3:\n",
        "      survivor_count=survivor_count+1\n",
        "  class_survival_rate=((survivor_count/passenger_count)*100)\n",
        "  return (int(round(class_survival_rate,0)))\n",
        "\n",
        "      \n",
        "\n",
        "third_class_survivors = get_third_class_survival_rate()\n",
        "print(\"The survival rate of third class passengers was: {}%\".format(third_class_survivors))"
      ],
      "metadata": {
        "id": "Mm4cLimh4U6J",
        "outputId": "a83ffd13-fd57-4c7f-f5d0-e400c8faee3d",
        "colab": {
          "base_uri": "https://localhost:8080/"
        }
      },
      "execution_count": 6,
      "outputs": [
        {
          "output_type": "stream",
          "name": "stdout",
          "text": [
            "The survival rate of third class passengers was: 24%\n"
          ]
        }
      ]
    },
    {
      "cell_type": "markdown",
      "source": [
        "---\n",
        "\n",
        "### Exercise 2 - Adapt your function to get the percentage for any class\n",
        "\n",
        "Using the code from exercise 1, adjust your function so it can be used to find the survival rates for any passenger class:\n",
        "\n",
        "*   change the function name to **get_class_survival_rate**\n",
        "\n",
        "*   add a parameter for **class_num** inside the brackets of your function definition\n",
        "\n",
        "*   replace instances of the class number being used with the class_num parameter\n",
        "\n",
        "*   for each class, store the calling functions in new variables with their respective class_num argument ( e.g. **first_class_survivors** = **get_class_survival_rate(1)** ) and print the survival rates with statements\n",
        "\n",
        "Expected Output:\n",
        "\n",
        "The survival rate of first class passengers was 63%\n",
        "\n",
        "The survival rate of second class passengers was 47%\n",
        "\n",
        "The survival rate of third class passengers was 24%"
      ],
      "metadata": {
        "id": "Idkv_Nw28kKT"
      }
    },
    {
      "cell_type": "code",
      "source": [
        "def get_class_survival_rate(class_num):\n",
        "   passenger_count = 0\n",
        "   survivor_count = 0\n",
        "   for i in range(len(Pclass)):\n",
        "    if  Pclass[i]== class_num:\n",
        "       passenger_count +=1\n",
        "   for i in range(len(Pclass)):\n",
        "      if survived[i] == 1 and Pclass[i] == class_num:\n",
        "        survivor_count +=1\n",
        "   class_survival_rate = (survivor_count/passenger_count)*100\n",
        "   return int(round(class_survival_rate,0))\n",
        "\n",
        "\n",
        "first_class_survivors = (get_class_survival_rate(1))\n",
        "print(\"The survival rate of first class passengers was: {}%\".format(first_class_survivors))\n",
        "\n",
        "second_class_survivors = (get_class_survival_rate(2))\n",
        "print(\"The survival rate of second class passengers was: {}%\".format(second_class_survivors))\n",
        "\n",
        "third_class_survivors = (get_class_survival_rate(3))\n",
        "print(\"The survival rate of third class passengers was: {}%\".format(third_class_survivors))"
      ],
      "metadata": {
        "id": "isNsveqB883T",
        "outputId": "53938c95-e0af-4044-f23f-584f9bffa143",
        "colab": {
          "base_uri": "https://localhost:8080/"
        }
      },
      "execution_count": 7,
      "outputs": [
        {
          "output_type": "stream",
          "name": "stdout",
          "text": [
            "The survival rate of first class passengers was: 63%\n",
            "The survival rate of second class passengers was: 47%\n",
            "The survival rate of third class passengers was: 24%\n"
          ]
        }
      ]
    },
    {
      "cell_type": "markdown",
      "source": [
        "---\n",
        "\n",
        "### Exercise 3 - Use similar methods to work out if men were more likely to survive than women\n",
        "\n",
        "Write a function called **get_sex_survival_rate()** which will find the chance of survival for men and women:\n",
        "\n",
        "*   use a parameter in your function ( e.g. get_sex_survival_rate(**Psex**) ) so it can be used for both males and females\n",
        "\n",
        "*   assign the value 0 to variables **passenger_count** and **survivor_count**\n",
        "\n",
        "*   use a **for** loop to loop through the `Sex` list\n",
        "\n",
        "*   in the loop: use an **if** statement to add to the passenger count `if` the passenger is equal to Psex (the functions parameter)\n",
        "\n",
        "*   use a second **for** loop in the **range** of the Sex list to loop through the length of the list\n",
        "\n",
        "*   in the second loop: use an **if** statement to add to the survivor count `if` the passenger was male/female and survived\n",
        "\n",
        "*   create a new variable and called **sex_survival_rate** and calculate the survival rate as a percentage ( (survivor count ÷ passenger count) x 100 ) and return the result\n",
        "\n",
        "*   store the calling functions in new variables called **male_survivors** and **female_survivors** and print them along with a statement\n",
        "\n",
        "Expected Output:\n",
        "\n",
        "The survival rate of male passengers was: 19%\n",
        "\n",
        "The survival rate of female passengers was: 74%"
      ],
      "metadata": {
        "id": "u_BwoQI9JTms"
      }
    },
    {
      "cell_type": "code",
      "source": [
        "def get_sex_survival_rate(Psex):\n",
        "  passenger_count = 0\n",
        "  survivor_count = 0\n",
        "  for i in range(len(Sex)):\n",
        "    if Sex[i] == Psex:\n",
        "      passenger_count +=1\n",
        "  for i in range(len(Sex)):\n",
        "    if survived[i] ==1 and Sex[i] ==Psex:\n",
        "      survivor_count +=1\n",
        "  sex_survival_rate= (survivor_count/passenger_count)*100\n",
        "  return int(round(sex_survival_rate,0))\n",
        "\n",
        "\n",
        "male_survivors = get_sex_survival_rate('male')\n",
        "print(\"The survival rate of male passengers was: {}%\".format(male_survivors))\n",
        "\n",
        "female_survivors = get_sex_survival_rate('female')\n",
        "print(\"The survival rate of female passengers was: {}%\".format(female_survivors))"
      ],
      "metadata": {
        "colab": {
          "base_uri": "https://localhost:8080/"
        },
        "id": "rsG3VBs5KOkb",
        "outputId": "b8a603f1-0af5-478b-aa24-9ca588f1d32e"
      },
      "execution_count": 15,
      "outputs": [
        {
          "output_type": "stream",
          "name": "stdout",
          "text": [
            "The survival rate of male passengers was: 19%\n",
            "The survival rate of female passengers was: 74%\n"
          ]
        }
      ]
    },
    {
      "cell_type": "markdown",
      "source": [
        "---\n",
        "\n",
        "### Exercise 4 - Use similar methods to work out if young people (below 40yrs old) were more likely to survive\n",
        "\n",
        "Write a function called get_age_survival_rate() which will find the chance of survival for passengers under the age of 40:\n",
        "\n",
        "*Note: In the 'Age' list some entries are empty and will result in an error when trying to use an if statement therefore in your if statements you must include ' is not None' ( e.g. passenger_age < 40 and passenger_age is not None ) to circumvent this*\n",
        "\n",
        "*   assign the value 0 to variables **passenger_count** and **survivor_count**\n",
        "\n",
        "*   use a **for** loop to loop through the `Age` list\n",
        "\n",
        "*   in the loop: use an **if** statement to add to the passenger count `if` the passenger's age is less than 40 and not none\n",
        "\n",
        "*   use a second **for** loop in the **range** of the Age list to loop through the length of the list\n",
        "\n",
        "*   in the second loop: use an **if** statement to add to the survivor count `if` the passenger's age is less than 40 and survived and is not none\n",
        "\n",
        "*   create a new variable and called **age_survival_rate** and calculate the survival rate as a percentage ( (survivor count ÷ passenger count) x 100 ) and return the result\n",
        "\n",
        "*   store the calling function in a new variable called **young_survivors** and print it along with a statement"
      ],
      "metadata": {
        "id": "qqaLEA0tNAUa"
      }
    },
    {
      "cell_type": "code",
      "source": [
        "def get_age_survival_rate():\n",
        "  passenger_count = 0\n",
        "  survivor_count = 0\n",
        "  for i in range(len(Age)):\n",
        "     if Age[i] < 40:\n",
        "      passenger_count += 1\n",
        "  for i in range(len(Age)):\n",
        "    if survived[i]==1 and Age[i] < 40:\n",
        "      survivor_count += 1\n",
        "  age_survival_rate= (survivor_count/passenger_count)*100\n",
        "  return int(round(age_survival_rate,0))\n",
        "\n",
        "young_survivors = get_age_survival_rate()\n",
        "print(\"The survival rate of young people (below 40yrs old) was: {}%\".format(young_survivors))"
      ],
      "metadata": {
        "colab": {
          "base_uri": "https://localhost:8080/"
        },
        "id": "MoPASbZxWmTn",
        "outputId": "737e747a-cec4-4589-9190-e512bc435976"
      },
      "execution_count": 20,
      "outputs": [
        {
          "output_type": "stream",
          "name": "stdout",
          "text": [
            "The survival rate of young people (below 40yrs old) was: 42%\n"
          ]
        }
      ]
    },
    {
      "cell_type": "markdown",
      "source": [
        "---\n",
        "\n",
        "### Exercise 5 - Determine chance of survival from user inputs\n",
        "\n",
        "This time, let the user choose what groups they would like to use (ie process according to type of ticket, sex, age)  The function should give the user a menu of categories to calculate on (ticket class, sex, age), then should ask for a value of the chosen category to search for, then should use the relevant function from above (get_class_survival_rate, get_sex_survival_rate, get_age_survival_rate\n",
        "\n",
        "Use this number to calculate the percentage of all passengers who survived.\n",
        "\n",
        "Challenge:  you could modify the age so that it is possible to get a range (ie 0 to 20, 20 to 40, etc) for age.\n",
        "\n",
        "The function should return the percentage so that it can be printed by the code that is already in the box below."
      ],
      "metadata": {
        "id": "UeEOVCcGc5ID"
      }
    },
    {
      "cell_type": "code",
      "source": [
        "def get_chance_of_survival():  \n",
        " user_input = input(\"Please choose what groups you would like to use (ticket class/sex/age):\")\n",
        " if user_input == \"ticket class\":\n",
        "    class_num = int(input(\"Enter class number 1,2 or 3:\"))\n",
        "    return get_class_survival_rate(class_num)\n",
        " elif user_input ==\"sex\":\n",
        "    Psex = input(\"Enter male or female:\")\n",
        "    return get_sex_survival_rate(Psex)\n",
        " elif user_input == \"age\":\n",
        "    return get_age_survival_rate()\n",
        " else:\n",
        "    print(\"Not such group available. Try again.\")\n",
        "    get_chance_of_survival()\n",
        "\n",
        " \n",
        "survival_chance = get_chance_of_survival()\n",
        "print(\"The chance of survival for passengers would be: {}%\".format(survival_chance))"
      ],
      "metadata": {
        "id": "UfCYMdxOdJvG",
        "outputId": "43970161-9a49-413d-bf11-f5c679957a44",
        "colab": {
          "base_uri": "https://localhost:8080/"
        }
      },
      "execution_count": 22,
      "outputs": [
        {
          "output_type": "stream",
          "name": "stdout",
          "text": [
            "Please choose what groups you would like to use (ticket class/sex/age):ticket class\n",
            "Enter class number 1,2 or 3:3\n",
            "The chance of survival for passengers would be: 24%\n"
          ]
        }
      ]
    },
    {
      "cell_type": "markdown",
      "source": [
        "# Reflection\n",
        "\n",
        "What went well in this project?  What did you find the most challenging?  What is the most interesting thing you have learnt?\n",
        "\n",
        "Type your reflection in the box below."
      ],
      "metadata": {
        "id": "3L62LqXYmFTV"
      }
    },
    {
      "cell_type": "markdown",
      "source": [],
      "metadata": {
        "id": "bjX00bshmP8a"
      }
    }
  ]
}