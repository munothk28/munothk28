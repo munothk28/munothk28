{
  "nbformat": 4,
  "nbformat_minor": 0,
  "metadata": {
    "colab": {
      "name": "Lists and Dictionaries Challenges.ipynb",
      "provenance": [],
      "include_colab_link": true
    },
    "kernelspec": {
      "name": "python3",
      "display_name": "Python 3"
    },
    "language_info": {
      "name": "python"
    }
  },
  "cells": [
    {
      "cell_type": "markdown",
      "metadata": {
        "id": "view-in-github",
        "colab_type": "text"
      },
      "source": [
        "<a href=\"https://colab.research.google.com/github/munothk28/munothk28/blob/main/Lists_and_Dictionaries_Challenges.ipynb\" target=\"_parent\"><img src=\"https://colab.research.google.com/assets/colab-badge.svg\" alt=\"Open In Colab\"/></a>"
      ]
    },
    {
      "cell_type": "markdown",
      "metadata": {
        "id": "nEJLJX3J9B2k"
      },
      "source": [
        "# Some challenges to help you become more confident with using Lists, Tuples and Dictionaries\n",
        "\n",
        "---\n",
        "\n"
      ]
    },
    {
      "cell_type": "markdown",
      "metadata": {
        "id": "JvV6htgh9Nc1"
      },
      "source": [
        "### Exercise 1 - extending a list\n",
        "\n",
        "There are three ways to extend a list in Python:  \n",
        "*  use `list_name.append(item)`, `list_name.insert(item)`\n",
        "*  concatenate two lists using the + operator (e.g. new_list = list1 + list2)\n",
        "*  use `list1_name.extend(list2_name)`\n",
        "\n",
        "The last method allows us to add all the `list2` items onto `list1` and for the new, extended list to now be `list1`.  `list2` will always be added to the end of `list1`.  \n",
        "\n",
        "If the objective is to add list2 before list1 then use `list2.extend(list1)`\n",
        "\n",
        "Write a function which will:  \n",
        "*  create a list of **years** containing the years 1960, 1970, 1980, 1990, 2000  \n",
        "*  print the list of years  \n",
        "*  calculate how long ago each year was and print the year and how long ago it was (e.g. 1990 was 30 years ago)  *(Hint:  use the datetime library to get the current year)*   \n",
        "*  create a second list, **years2** containing the years 2010 and 2020, extend `years` to include these later years\n",
        "*  create a third list, **years3** containing the years 1930, 1940 and 1950 and extend the list to include all the years between 1930 and 2020\n",
        "*  print the final list\n",
        "\n",
        "Expected output:  \n",
        "[1960, 1970, 1980, 1990]  \n",
        "1960 was 61 years ago  \n",
        "1970 was 51 years ago  \n",
        "1980 was 41 years ago  \n",
        "1990 was 31 years ago  \n",
        "2000 was 21 years ago  \n",
        "[1930, 1940, 1950, 1960, 1970, 1980, 1990, 2000, 2010, 2020] "
      ]
    },
    {
      "cell_type": "code",
      "metadata": {
        "id": "QAyTVqoO8-08",
        "outputId": "c04b17d1-14af-4447-a77f-b2c450304f07",
        "colab": {
          "base_uri": "https://localhost:8080/"
        }
      },
      "source": [
        "import datetime\n",
        "def list_of_year():\n",
        "  year_list=[1960,1970,1980,1990,2000]\n",
        "  print(year_list)\n",
        "  today = datetime.date.today()\n",
        "  year = today.year\n",
        "  for i in range(int(len(year_list))):\n",
        "     print(year_list[i], \"was\", year-year_list [i],\"years ago\")\n",
        "  year2=[2010,2020]\n",
        "  year_list.extend(year2)\n",
        "  year3=[1930,1940,1950]\n",
        "  year3.extend(year_list)\n",
        "  print(year3)\n",
        "list_of_year()"
      ],
      "execution_count": 20,
      "outputs": [
        {
          "output_type": "stream",
          "name": "stdout",
          "text": [
            "[1960, 1970, 1980, 1990, 2000]\n",
            "1960 was 62 years ago\n",
            "1970 was 52 years ago\n",
            "1980 was 42 years ago\n",
            "1990 was 32 years ago\n",
            "2000 was 22 years ago\n",
            "[1930, 1940, 1950, 1960, 1970, 1980, 1990, 2000, 2010, 2020]\n"
          ]
        }
      ]
    },
    {
      "cell_type": "markdown",
      "metadata": {
        "id": "S5iPicFzBzOW"
      },
      "source": [
        "---\n",
        "### Exercise 2 - creating a dictionary from a tuple and three lists\n",
        "\n",
        "Write a function which will create a list of dictionary items using the values in a tuple as the dictionary keys and the values in three corresponding lists as the dictionary values.\n",
        "\n",
        "*  loop through the status items in the tuple called task_status\n",
        "*  for each status, loop through the list with the same name (*Hint:  you can use eval(status) to access the list with the matching name  e.g. for task in eval(status)* )\n",
        "*  each time round this second loop, create a dictionary object with the  key:value pair {status : task}\n",
        "*  add each new dictionary to a list called **project_board** that was created as an empty list before the loops  \n",
        "*  print the project_board list\n",
        "\n",
        "Expected output:  \n",
        "\n",
        "[{'assigned': 'task1'}, {'assigned': 'task2'}, {'assigned': 'task3'}, {'inprogress': 'task4'}, {'inprogress': 'task5'}, {'inprogress': 'task6'}, {'completed': 'task7'}, {'completed': 'task8'}, {'completed': 'task9'}] \n",
        "\n"
      ]
    },
    {
      "cell_type": "code",
      "metadata": {
        "id": "KXYOSHY-C7m4",
        "outputId": "0f326659-d6b6-4e5d-c9ca-164116a08c09",
        "colab": {
          "base_uri": "https://localhost:8080/"
        }
      },
      "source": [
        "def create_project_board():\n",
        "  task_status = (\"assigned\", \"inprogress\", \"completed\")\n",
        "  assigned = ['task1','task2','task3']\n",
        "  inprogress = ['task4','task5','task6']\n",
        "  completed = ['task7','task8','task9']\n",
        "  #  add your code below here\n",
        "  project_board=[]\n",
        "  for i in range(len(task_status)):\n",
        "    if eval(\"task_status\")[i] == \"assigned\":\n",
        "      for k in range(len(assigned)):\n",
        "            status_task = {} \n",
        "            status_task[\"assigned\"] = eval(\"assigned\")[k]\n",
        "            project_board.append(status_task)\n",
        "    if eval(\"task_status\")[i] == \"inprogress\":\n",
        "      for k in range(len(assigned)):\n",
        "            status_task = {} \n",
        "            status_task[\"inprogress\"] = eval(\"inprogress\")[k]\n",
        "            project_board.append(status_task)\n",
        "    if eval(\"task_status\")[i] == \"completed\":\n",
        "      for k in range(len(assigned)):\n",
        "            status_task = {} \n",
        "            status_task[\"completed\"] = eval(\"completed\")[k]\n",
        "            project_board.append(status_task)\n",
        "  print(project_board)\n",
        "\n",
        "       \n",
        "\n",
        "\n",
        "\n",
        "create_project_board()\n"
      ],
      "execution_count": 21,
      "outputs": [
        {
          "output_type": "stream",
          "name": "stdout",
          "text": [
            "[{'assigned': 'task1'}, {'assigned': 'task2'}, {'assigned': 'task3'}, {'inprogress': 'task4'}, {'inprogress': 'task5'}, {'inprogress': 'task6'}, {'completed': 'task7'}, {'completed': 'task8'}, {'completed': 'task9'}]\n"
          ]
        }
      ]
    },
    {
      "cell_type": "markdown",
      "metadata": {
        "id": "M1BuTu9p19Ma"
      },
      "source": [
        "---\n",
        "### Exercise 3 - names and heights\n",
        "\n",
        "Write a function which will allow a user to enter the names and heights of a set of people and add each set of information as a record (dictionary) to a list. The function will stop collecting names and heights when the user enters \"STOP\" as the name.\n",
        "\n",
        "Then, the function will:  \n",
        "\n",
        "*   produce a list of names in order of the shortest person to the tallest\n",
        "*   calculate the name of the tallest person\n",
        "*   calculate the name of the shortest person\n",
        "*   calculate the average height\n",
        "*   calculate the name of the person who is closest to the average height\n",
        "\n",
        "\n",
        "\n",
        "\n"
      ]
    },
    {
      "cell_type": "code",
      "metadata": {
        "id": "reuyww3e18uv",
        "outputId": "7b0cc718-cb13-4a71-c77b-281087177c52",
        "colab": {
          "base_uri": "https://localhost:8080/"
        }
      },
      "source": [
        "def take_entries():\n",
        "    person = {\n",
        "        'name': \"\",\n",
        "        'height': 0\n",
        "    }\n",
        "    people = []\n",
        "    choice = \"\"\n",
        "    print(\"Enter STOP after all entries filled.\")\n",
        "    while choice != \"STOP\":\n",
        "        name = input(\"Enter name:\")\n",
        "        height = int(input(\"Enter height(cms):\"))\n",
        "        person[\"name\"] = name\n",
        "        person[\"height\"]=height\n",
        "        people.append(person)\n",
        "        person = {}\n",
        "        choice = input(\"Finished entries:\")\n",
        "    print(people)\n",
        "    heights = []\n",
        "    names = []\n",
        "    print(\"Shortes to tallest :\")\n",
        "    for index in range(len(people)):\n",
        "        heights.append(people[index][\"height\"])\n",
        "        names.append(people[index][\"name\"])\n",
        "    for i in range(len(heights)):\n",
        "        for j in range(i + 1, len(heights)):\n",
        "            if heights[i] > heights[j]:\n",
        "                heights[i], heights[j] = heights[j], heights[i]\n",
        "                names[i], names[j] = names[j], names[i]\n",
        "\n",
        "    for i in range(len(names)):\n",
        "        print(names[i])\n",
        "\n",
        "    tallest = \"\"\n",
        "    tall = 0\n",
        "    for index in range(len(people)):\n",
        "        if people[index][\"height\"] > tall:\n",
        "            tall = people[index][\"height\"]\n",
        "            tallest = people[index][\"name\"]\n",
        "    print(\"Tallest peroson -\", tallest, tall,\"cms\")\n",
        "\n",
        "    shortest = \"\"\n",
        "    short = 999\n",
        "    for index in range(len(people)):\n",
        "        if people[index][\"height\"] < short:\n",
        "            short = people[index][\"height\"]\n",
        "            shortest = people[index][\"name\"]\n",
        "    print(\"Shortest peroson -\", shortest, short,\"cms\")\n",
        "\n",
        "    total_height = 0\n",
        "    for index in range(len(people)):\n",
        "        total_height += people[index][\"height\"]\n",
        "    average_height = total_height / len(people)\n",
        "    print(\"Average height: \", average_height,\"cms\")\n",
        "    return\n",
        "\n",
        "take_entries()"
      ],
      "execution_count": 30,
      "outputs": [
        {
          "output_type": "stream",
          "name": "stdout",
          "text": [
            "Enter STOP after all entries filled.\n",
            "Enter name:goerge\n",
            "Enter height(cms):185\n",
            "Finished entries:no\n",
            "Enter name:demin\n",
            "Enter height(cms):176\n",
            "Finished entries:no\n",
            "Enter name:john\n",
            "Enter height(cms):195\n",
            "Finished entries:STOP\n",
            "[{'name': 'goerge', 'height': 185}, {'name': 'demin', 'height': 176}, {'name': 'john', 'height': 195}]\n",
            "Shortes to tallest :\n",
            "demin\n",
            "goerge\n",
            "john\n",
            "Tallest peroson - john 195 cms\n",
            "Shortest peroson - demin 176 cms\n",
            "Average height:  185.33333333333334 cms\n"
          ]
        }
      ]
    }
  ]
}